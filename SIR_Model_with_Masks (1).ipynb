{
  "cells": [
    {
      "cell_type": "raw",
      "id": "11939daa-c8e9-4f02-9e2d-7c3b1d473db2",
      "metadata": {
        "id": "11939daa-c8e9-4f02-9e2d-7c3b1d473db2"
      },
      "source": [
        "Person Class\n",
        "\n",
        "attributes (Variables)\n",
        "\tID - Identification - Integer\n",
        "\tAge - Demographics - Integer\n",
        "\tDays Sick - Number of Days Sick - Integer\n",
        "\tStatus - current status - String\n",
        "\t\t\tSusceptible\n",
        "\t\t\tInfected\n",
        "\t\t\tRecovered\n",
        "\t\t\tImmunize\n",
        "\tRiskOfInfection - Infection Rate - Integer\n",
        "\tInteractions [] - List\n",
        "\t\n",
        "Methods/Behaviors - Actions (Functions)\n",
        "\tInfect - we need to infect the Person\n",
        "\tRecover - recover Person\n",
        "\tUpdate - Update them/Check their status everyday\n",
        "\tRollForInfection - Roll the dice to see if they get sick\n",
        "\tGetStatus - return their current status\n"
      ]
    },
    {
      "cell_type": "markdown",
      "id": "1f8acca7-e452-4872-aa75-801e3c6e1555",
      "metadata": {
        "id": "1f8acca7-e452-4872-aa75-801e3c6e1555"
      },
      "source": [
        "### I am importing random for random number to determine if someone gets sick or not"
      ]
    },
    {
      "cell_type": "code",
      "execution_count": null,
      "id": "2ce9f416-78da-489b-aa81-42d91ae92589",
      "metadata": {
        "id": "2ce9f416-78da-489b-aa81-42d91ae92589"
      },
      "outputs": [],
      "source": [
        "import random"
      ]
    },
    {
      "cell_type": "markdown",
      "id": "bd9bbc6a-38c5-4033-9d23-e4aabbfd0730",
      "metadata": {
        "id": "bd9bbc6a-38c5-4033-9d23-e4aabbfd0730"
      },
      "source": [
        "### let's design our Person class with attributes listed above and methods listed above\n",
        "Person Object"
      ]
    },
    {
      "cell_type": "code",
      "execution_count": null,
      "id": "f00e3d6c-9ec8-4530-9655-6e623e54b2f0",
      "metadata": {
        "id": "f00e3d6c-9ec8-4530-9655-6e623e54b2f0"
      },
      "outputs": [],
      "source": [
        "class Person(object):\n",
        "    def __init__(self, default_days_sick=5, default_infection_rate=10, masked=False, mask_type=\"N95\"):\n",
        "        self.ID = 0\n",
        "        self.age = 0\n",
        "        self.status = \"Susceptible\"\n",
        "        self.days_sick = 0\n",
        "        self.max_days_sick = default_days_sick\n",
        "        self.infection_rate = default_infection_rate\n",
        "        self.interactions = []\n",
        "        self.is_masked = masked\n",
        "        self.mask_type = mask_type\n",
        "        \n",
        "        \n",
        "\n",
        "        \n",
        "    def set_is_masked(self, masked):\n",
        "        self.is_masked = masked\n",
        "        if (self.is_masked):\n",
        "            self.infection_rate = self.infection_rate/2\n",
        "    \n",
        "    def get_is_masked(self):\n",
        "        return self.is_masked\n",
        "\n",
        "    def set_mask_type(self, mask_type):\n",
        "        mask_names = [\"N95\", \"Surgical\", \"Silk\", \"Gauze\"]\n",
        "        \n",
        "        self.mask_type = random.choice(mask_names)\n",
        "        if (self.is_masked):\n",
        "            if (self.mask_type == \"N95\"):\n",
        "                self.infection_rate = self.infection_rate*.15\n",
        "            elif (self.mask_type in [\"Surgical\", \"Silk\"]):\n",
        "                self.infection_rate = self.infection_rate*.25\n",
        "            else: \n",
        "                (self.mask_type == \"Gauze\")\n",
        "                self.infection_rate = self.infection_rate*.50\n",
        "\n",
        "    def set_infection_rate(self, new_rate):\n",
        "        self.infection_rate = new_rate\n",
        "    \n",
        "    def infect(self, number_of_days):\n",
        "        self.days_sick = number_of_days\n",
        "        self.status = \"Infected\"\n",
        "        \n",
        "    def recover(self):\n",
        "        self.days_sick = 0\n",
        "        self.status = \"Recovered\"\n",
        "        \n",
        "    def roll_for_infection(self):\n",
        "        if (random.randint(0,101) < self.infection_rate):\n",
        "            self.infect(self.max_days_sick)\n",
        "            \n",
        "    def get_status(self):\n",
        "        return self.status\n",
        "    \n",
        "    def get_days_sick(self):\n",
        "        return self.days_sick\n",
        "    \n",
        "    def update(self):\n",
        "        if (self.status == \"Susceptible\"):\n",
        "            self.roll_for_infection()\n",
        "            \n",
        "        elif (self.status == \"Infected\"):\n",
        "            self.days_sick = self.days_sick - 1\n",
        "            if (self.days_sick <= 0):\n",
        "                self.recover()\n",
        "\n",
        " \n",
        "        \n",
        "                \n",
        "                \n",
        "    \n",
        "    "
      ]
    },
    {
      "cell_type": "markdown",
      "id": "13e0658f-6c93-4734-9bd6-a930a8074294",
      "metadata": {
        "id": "13e0658f-6c93-4734-9bd6-a930a8074294"
      },
      "source": [
        "### Something is still not quite right, the code works\n",
        "### but there's still too much going on\n",
        "---"
      ]
    },
    {
      "cell_type": "markdown",
      "id": "c11ca63e-390e-4fc5-b3f6-70edbbdda475",
      "metadata": {
        "id": "c11ca63e-390e-4fc5-b3f6-70edbbdda475"
      },
      "source": [
        "#### We need a Population Class"
      ]
    },
    {
      "cell_type": "raw",
      "id": "d5e2010c-000d-4665-a0f8-14d79ce4d85b",
      "metadata": {
        "id": "d5e2010c-000d-4665-a0f8-14d79ce4d85b"
      },
      "source": [
        "Population Class - Brainstorm:\n",
        "\n",
        "Attributes:\n",
        "    number of People\n",
        "    vector of Person Objects\n",
        "    default_days_sick\n",
        "    default_infection_rate\n",
        "    number_of_interactions\n",
        "\n",
        "Each Person interacts with 10 people\n",
        "If a Person is Infected, each Susceptible Person they interact with has to roll to see if they get Infected\n",
        "\n",
        "If a Person is Susceptible, and they interact with an Infected Person, then the Susceptible Person needs to roll to see if they get Infected\n",
        "\n",
        "Methods:\n",
        "    Number of People Susceptible\n",
        "    Number of People Infected\n",
        "    Number of People Recovered\n",
        "    \n",
        "    Update() - update every Person in our population "
      ]
    },
    {
      "cell_type": "markdown",
      "id": "b1c7226e-ec24-472b-950e-39df58bb2dda",
      "metadata": {
        "id": "b1c7226e-ec24-472b-950e-39df58bb2dda"
      },
      "source": [
        "## Population Object"
      ]
    },
    {
      "cell_type": "code",
      "execution_count": null,
      "id": "56d90ad1-ecbe-41d3-9153-aa092446be67",
      "metadata": {
        "id": "56d90ad1-ecbe-41d3-9153-aa092446be67"
      },
      "outputs": [],
      "source": [
        "class Population(object):\n",
        "    def __init__(self, number_of_people=1000, default_interactions=10, default_days_sick=5, default_infection_rate=10, default_percentage_masked=0,default_mask_type=\"N95\"):\n",
        "        self.People = []\n",
        "        self.population_count = number_of_people\n",
        "        self.number_of_interactions = default_interactions\n",
        "        self.max_days_sick = default_days_sick\n",
        "        self.infection_rate = default_infection_rate\n",
        "        self.mask_type = default_mask_type\n",
        "        \n",
        "        self.number_masked = number_of_people*(default_percentage_masked/100)\n",
        "      \n",
        "        \n",
        "        ## set Patient_Zero aka The Jerk\n",
        "        patient_zero = Person()\n",
        "        patient_zero.infect(self.max_days_sick)\n",
        "        \n",
        "        ## add patient_zero to our People[]\n",
        "        \n",
        "        self.People.append(patient_zero)\n",
        "        \n",
        "        ## build the rest of our Population      \n",
        "        for i in range(0, self.population_count):\n",
        "            new_person = Person()\n",
        "            if (i <= self.number_masked):\n",
        "                new_person.set_is_masked(True)\n",
        "                new_person.set_mask_type(True)\n",
        "                                \n",
        "            self.People.append(new_person)\n",
        "            \n",
        "    #return mumber of people masked\n",
        "    def get_number_masked(self):\n",
        "        return self.number_masked;\n",
        "    \n",
        "    def get_number_masked_infected(self):\n",
        "        count = 0\n",
        "        \n",
        "        for the_person in self.People:\n",
        "            if (the_person.get_status() == \"Infected\" and the_person.get_is_masked() == True):\n",
        "                count = count + 1\n",
        "        \n",
        "        return count    \n",
        "    \n",
        "    ##go through our population, and count each person that's susceptible\n",
        "    def number_of_susceptible(self):\n",
        "        count = 0\n",
        "        \n",
        "        for the_person in self.People:\n",
        "            if (the_person.get_status() == \"Susceptible\"):\n",
        "                count = count + 1\n",
        "        \n",
        "        return count\n",
        "    \n",
        "    ##go through the population, and count each person that's infected\n",
        "    def number_of_infected(self):\n",
        "        count = 0\n",
        "        \n",
        "        for the_person in self.People:\n",
        "            if (the_person.get_status() == \"Infected\"):\n",
        "                count = count + 1\n",
        "        \n",
        "        return count\n",
        "    \n",
        "    ##go through the population, and count each person that's recovered\n",
        "    def number_of_recovered(self):\n",
        "        count = 0\n",
        "        \n",
        "        for the_person in self.People:\n",
        "            if (the_person.get_status() == \"Recovered\"):\n",
        "                count = count + 1\n",
        "                \n",
        "        return count\n",
        "    \n",
        "    ##Total Population\n",
        "    def get_population_count(self):\n",
        "        return len(self.People)\n",
        "    \n",
        "    \n",
        "    def update(self):\n",
        "        \n",
        "        ##we're going to make a list of People who might get\n",
        "        ##infected at the end of the day\n",
        "        \n",
        "        might_get_sick = []\n",
        "        \n",
        "        ## go through my Population and see who might get sick\n",
        "        for person in self.People:\n",
        "            person.interactions = []\n",
        "            \n",
        "            ## each person inteteracts w/ number_of_interaction number of people\n",
        "            \n",
        "            for i in range(0, self.number_of_interactions):\n",
        "                r = random.randint(0, self.population_count)\n",
        "                person.interactions.append(r)\n",
        "            \n",
        "            ## if person is infected, their interactions might get infected\n",
        "            if (person.get_status() == \"Infected\"):\n",
        "                ##????? really????\n",
        "                person.update()\n",
        "                \n",
        "                for j in person.interactions:\n",
        "                    if (self.People[j].get_status() == \"Susceptible\"):\n",
        "                        might_get_sick.append(self.People[j])\n",
        "            \n",
        "            ## if person is susceptible, they interact w/ someone infected\n",
        "            if (person.get_status() == \"Susceptible\"):\n",
        "                for j in person.interactions:\n",
        "                    if (self.People[j].get_status() == \"Infected\"):\n",
        "                        might_get_sick.append(person)\n",
        "                        \n",
        "        ##the above updates each person who is infected\n",
        "        ##I have a list of people who **might** get infected\n",
        "        ##each person in that list, has to roll to get infected\n",
        "        \n",
        "        for person in might_get_sick:\n",
        "            person.roll_for_infection()\n",
        "            \n",
        "            \n",
        "    def get_population_list(self):\n",
        "        return self.People\n",
        "    "
      ]
    },
    {
      "cell_type": "markdown",
      "id": "3e891382-8e29-454a-ad57-80225f70dd94",
      "metadata": {
        "id": "3e891382-8e29-454a-ad57-80225f70dd94"
      },
      "source": [
        "### Our Main Code!\n",
        " Community Object "
      ]
    },
    {
      "cell_type": "code",
      "execution_count": null,
      "id": "f595f5eb-fc77-4864-9bcf-22e6451269a6",
      "metadata": {
        "id": "f595f5eb-fc77-4864-9bcf-22e6451269a6",
        "outputId": "872f3eb7-b7f2-49a7-c53f-8da6d753ce90",
        "colab": {
          "base_uri": "https://localhost:8080/"
        }
      },
      "outputs": [
        {
          "output_type": "stream",
          "name": "stdout",
          "text": [
            "day: 0 infected: recovered: 0\n",
            "day: 1 infected: recovered: 0\n",
            "day: 2 infected: recovered: 0\n",
            "day: 3 infected: recovered: 0\n",
            "day: 4 infected: recovered: 0\n",
            "day: 5 infected: recovered: 1\n",
            "day: 6 infected: recovered: 2\n",
            "day: 7 infected: recovered: 8\n",
            "day: 8 infected: recovered: 17\n",
            "day: 9 infected: recovered: 56\n",
            "day: 10 infected: recovered: 151\n",
            "day: 11 infected: recovered: 448\n",
            "day: 12 infected: recovered: 1205\n",
            "day: 13 infected: recovered: 3010\n",
            "day: 14 infected: recovered: 6162\n",
            "day: 15 infected: recovered: 8851\n",
            "day: 16 infected: recovered: 9818\n",
            "day: 17 infected: recovered: 9969\n",
            "day: 18 infected: recovered: 9995\n",
            "day: 19 infected: recovered: 9999\n"
          ]
        }
      ],
      "source": [
        "##Build our Community\n",
        "\n",
        "myCommunity = Population(10000)\n",
        "day = 0\n",
        "number_infected = myCommunity.number_of_infected()\n",
        "while (number_infected > 0):\n",
        "    number_infected = myCommunity.number_of_infected()\n",
        "    number_recovered = myCommunity.number_of_recovered()\n",
        "    print(\"day:\", day, \"infected:\", \"recovered:\", number_recovered)\n",
        "    \n",
        "    day = day + 1\n",
        "    myCommunity.update()\n",
        "\n"
      ]
    },
    {
      "cell_type": "code",
      "execution_count": null,
      "id": "6ad5b6a2-a1fa-424c-ab9f-0b0db56e531c",
      "metadata": {
        "id": "6ad5b6a2-a1fa-424c-ab9f-0b0db56e531c",
        "colab": {
          "base_uri": "https://localhost:8080/"
        },
        "outputId": "734026e7-4bd8-47e2-caa6-8a81fd173968"
      },
      "outputs": [
        {
          "output_type": "stream",
          "name": "stdout",
          "text": [
            "Population: 10001\n",
            "Number masked: 7000.0\n",
            "day: 0 infected: 1 masked+infected: 0 recovered: 0\n",
            "day: 1 infected: 2 masked+infected: 0 recovered: 0\n",
            "day: 2 infected: 3 masked+infected: 0 recovered: 0\n",
            "day: 3 infected: 5 masked+infected: 0 recovered: 0\n",
            "day: 4 infected: 7 masked+infected: 0 recovered: 0\n",
            "day: 5 infected: 12 masked+infected: 1 recovered: 1\n",
            "day: 6 infected: 16 masked+infected: 2 recovered: 2\n",
            "day: 7 infected: 23 masked+infected: 4 recovered: 3\n",
            "day: 8 infected: 39 masked+infected: 6 recovered: 5\n",
            "day: 9 infected: 78 masked+infected: 19 recovered: 7\n",
            "day: 10 infected: 137 masked+infected: 34 recovered: 13\n",
            "day: 11 infected: 245 masked+infected: 75 recovered: 18\n",
            "day: 12 infected: 429 masked+infected: 143 recovered: 26\n",
            "day: 13 infected: 731 masked+infected: 234 recovered: 44\n",
            "day: 14 infected: 1200 masked+infected: 415 recovered: 85\n",
            "day: 15 infected: 1888 masked+infected: 705 recovered: 150\n",
            "day: 16 infected: 2747 masked+infected: 1116 recovered: 263\n",
            "day: 17 infected: 3587 masked+infected: 1604 recovered: 455\n",
            "day: 18 infected: 4298 masked+infected: 2161 recovered: 775\n",
            "day: 19 infected: 4613 masked+infected: 2606 recovered: 1285\n",
            "day: 20 infected: 4534 masked+infected: 2896 recovered: 2038\n",
            "day: 21 infected: 4094 masked+infected: 2934 recovered: 3010\n",
            "day: 22 infected: 3447 masked+infected: 2751 recovered: 4042\n",
            "day: 23 infected: 2674 masked+infected: 2351 recovered: 5073\n",
            "day: 24 infected: 2026 masked+infected: 1887 recovered: 5898\n",
            "day: 25 infected: 1459 masked+infected: 1397 recovered: 6572\n",
            "day: 26 infected: 1001 masked+infected: 979 recovered: 7104\n",
            "day: 27 infected: 681 masked+infected: 668 recovered: 7489\n",
            "day: 28 infected: 458 masked+infected: 453 recovered: 7747\n",
            "day: 29 infected: 315 masked+infected: 312 recovered: 7924\n",
            "day: 30 infected: 224 masked+infected: 222 recovered: 8031\n",
            "day: 31 infected: 161 masked+infected: 160 recovered: 8105\n",
            "day: 32 infected: 104 masked+infected: 104 recovered: 8170\n",
            "day: 33 infected: 74 masked+infected: 74 recovered: 8205\n",
            "day: 34 infected: 47 masked+infected: 47 recovered: 8239\n",
            "day: 35 infected: 32 masked+infected: 32 recovered: 8255\n",
            "day: 36 infected: 25 masked+infected: 25 recovered: 8266\n",
            "day: 37 infected: 19 masked+infected: 19 recovered: 8274\n",
            "day: 38 infected: 15 masked+infected: 15 recovered: 8279\n",
            "day: 39 infected: 9 masked+infected: 9 recovered: 8286\n",
            "day: 40 infected: 9 masked+infected: 9 recovered: 8287\n",
            "day: 41 infected: 5 masked+infected: 5 recovered: 8291\n",
            "day: 42 infected: 4 masked+infected: 4 recovered: 8293\n",
            "day: 43 infected: 3 masked+infected: 3 recovered: 8294\n",
            "day: 44 infected: 3 masked+infected: 3 recovered: 8295\n",
            "day: 45 infected: 2 masked+infected: 2 recovered: 8296\n",
            "day: 46 infected: 2 masked+infected: 2 recovered: 8296\n",
            "day: 47 infected: 2 masked+infected: 2 recovered: 8297\n",
            "day: 48 infected: 3 masked+infected: 3 recovered: 8297\n",
            "day: 49 infected: 2 masked+infected: 2 recovered: 8298\n",
            "day: 50 infected: 2 masked+infected: 2 recovered: 8298\n",
            "day: 51 infected: 2 masked+infected: 2 recovered: 8298\n",
            "day: 52 infected: 1 masked+infected: 1 recovered: 8299\n",
            "day: 53 infected: 0 masked+infected: 0 recovered: 8300\n"
          ]
        }
      ],
      "source": [
        "##Build our Community\n",
        "\n",
        "myCommunity = Population(10000, 10, 5, 10, 70)\n",
        "print (\"Population:\",myCommunity.get_population_count())\n",
        "print (\"Number masked:\", myCommunity.get_number_masked())\n",
        "\n",
        "\n",
        "day = 0\n",
        "number_infected = myCommunity.number_of_infected()\n",
        "while (number_infected > 0):\n",
        "    number_infected = myCommunity.number_of_infected()\n",
        "    number_recovered = myCommunity.number_of_recovered()\n",
        "    number_masked = myCommunity.get_number_masked_infected()\n",
        "    \n",
        "    print(\"day:\", day, \"infected:\", number_infected, \"masked+infected:\", number_masked, \"recovered:\", number_recovered)\n",
        "    \n",
        "    day = day + 1\n",
        "    myCommunity.update()"
      ]
    },
    {
      "cell_type": "code",
      "execution_count": null,
      "id": "e5e3f1ad-d4b0-4b46-8ecd-375c2dd61f10",
      "metadata": {
        "id": "e5e3f1ad-d4b0-4b46-8ecd-375c2dd61f10"
      },
      "outputs": [],
      "source": []
    }
  ],
  "metadata": {
    "IMAGE_NAME": "taccsciapps/ds-nb-img:base-0.1.0",
    "UUID": "e7ea5304-7648-11ed-bbce-9aff3d7cd6d4",
    "kernelspec": {
      "display_name": "Python 3 (ipykernel)",
      "language": "python",
      "name": "python3"
    },
    "language_info": {
      "codemirror_mode": {
        "name": "ipython",
        "version": 3
      },
      "file_extension": ".py",
      "mimetype": "text/x-python",
      "name": "python",
      "nbconvert_exporter": "python",
      "pygments_lexer": "ipython3",
      "version": "3.9.10"
    },
    "colab": {
      "provenance": []
    }
  },
  "nbformat": 4,
  "nbformat_minor": 5
}