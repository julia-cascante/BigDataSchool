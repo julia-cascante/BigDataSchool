{
  "cells": [
    {
      "cell_type": "raw",
      "id": "11939daa-c8e9-4f02-9e2d-7c3b1d473db2",
      "metadata": {
        "id": "11939daa-c8e9-4f02-9e2d-7c3b1d473db2"
      },
      "source": [
        "Person Class\n",
        "\n",
        "attributes (Variables)\n",
        "\tID - Identification - Integer\n",
        "\tAge - Demographics - Integer\n",
        "\tDays Sick - Number of Days Sick - Integer\n",
        "\tStatus - current status - String\n",
        "\t\t\tSusceptible\n",
        "\t\t\tInfected\n",
        "\t\t\tRecovered\n",
        "\t\t\tImmunize\n",
        "\tRiskOfInfection - Infection Rate - Integer\n",
        "\tInteractions [] - List\n",
        "\t\n",
        "Methods/Behaviors - Actions (Functions)\n",
        "\tInfect - we need to infect the Person\n",
        "\tRecover - recover Person\n",
        "\tUpdate - Update them/Check their status everyday\n",
        "\tRollForInfection - Roll the dice to see if they get sick\n",
        "\tGetStatus - return their current status\n"
      ]
    },
    {
      "cell_type": "markdown",
      "id": "1f8acca7-e452-4872-aa75-801e3c6e1555",
      "metadata": {
        "id": "1f8acca7-e452-4872-aa75-801e3c6e1555"
      },
      "source": [
        "### I am importing random for random number to determine if someone gets sick or not"
      ]
    },
    {
      "cell_type": "code",
      "execution_count": null,
      "id": "2ce9f416-78da-489b-aa81-42d91ae92589",
      "metadata": {
        "id": "2ce9f416-78da-489b-aa81-42d91ae92589"
      },
      "outputs": [],
      "source": [
        "import random"
      ]
    },
    {
      "cell_type": "markdown",
      "id": "bd9bbc6a-38c5-4033-9d23-e4aabbfd0730",
      "metadata": {
        "id": "bd9bbc6a-38c5-4033-9d23-e4aabbfd0730"
      },
      "source": [
        "### let's design our Person class with attributes listed above and methods listed above\n",
        "Person Object"
      ]
    },
    {
      "cell_type": "code",
      "execution_count": null,
      "id": "f00e3d6c-9ec8-4530-9655-6e623e54b2f0",
      "metadata": {
        "id": "f00e3d6c-9ec8-4530-9655-6e623e54b2f0"
      },
      "outputs": [],
      "source": [
        "class Person(object):\n",
        "    def __init__(self, default_days_sick=5, default_infection_rate=10, masked=False, mask_type=\"N95\"):\n",
        "        self.ID = 0\n",
        "        self.age = 0\n",
        "        self.status = \"Susceptible\"\n",
        "        self.days_sick = 0\n",
        "        self.max_days_sick = default_days_sick\n",
        "        self.infection_rate = default_infection_rate\n",
        "        self.interactions = []\n",
        "        self.is_masked = masked\n",
        "        self.mask_type = mask_type\n",
        "        \n",
        "        \n",
        "\n",
        "        \n",
        "    def set_is_masked(self, masked):\n",
        "        self.is_masked = masked\n",
        "        if (self.is_masked):\n",
        "            self.infection_rate = self.infection_rate/2\n",
        "    \n",
        "    def get_is_masked(self):\n",
        "        return self.is_masked\n",
        "\n",
        "    def set_mask_type(self, mask_type):\n",
        "        mask_names = [\"N95\", \"Surgical\", \"Silk\", \"Gauze\"]\n",
        "        \n",
        "        self.mask_type = random.choice(mask_names)\n",
        "        if (self.is_masked):\n",
        "            if (self.mask_type == \"N95\"):\n",
        "                self.infection_rate = self.infection_rate*.15\n",
        "            elif (self.mask_type in [\"Surgical\", \"Silk\"]):\n",
        "                self.infection_rate = self.infection_rate*.25\n",
        "            else: \n",
        "                (self.mask_type == \"Gauze\")\n",
        "                self.infection_rate = self.infection_rate*.50\n",
        "\n",
        "    def set_infection_rate(self, new_rate):\n",
        "        self.infection_rate = new_rate\n",
        "    \n",
        "    def infect(self, number_of_days):\n",
        "        self.days_sick = number_of_days\n",
        "        self.status = \"Infected\"\n",
        "        \n",
        "    def recover(self):\n",
        "        self.days_sick = 0\n",
        "        self.status = \"Recovered\"\n",
        "        \n",
        "    def roll_for_infection(self):\n",
        "        if (random.randint(0,101) < self.infection_rate):\n",
        "            self.infect(self.max_days_sick)\n",
        "            \n",
        "    def get_status(self):\n",
        "        return self.status\n",
        "    \n",
        "    def get_days_sick(self):\n",
        "        return self.days_sick\n",
        "    \n",
        "    def update(self):\n",
        "        if (self.status == \"Susceptible\"):\n",
        "            self.roll_for_infection()\n",
        "            \n",
        "        elif (self.status == \"Infected\"):\n",
        "            self.days_sick = self.days_sick - 1\n",
        "            if (self.days_sick <= 0):\n",
        "                self.recover()\n",
        "\n",
        " \n",
        "        \n",
        "                \n",
        "                \n",
        "    \n",
        "    "
      ]
    },
    {
      "cell_type": "markdown",
      "id": "13e0658f-6c93-4734-9bd6-a930a8074294",
      "metadata": {
        "id": "13e0658f-6c93-4734-9bd6-a930a8074294"
      },
      "source": [
        "### Something is still not quite right, the code works\n",
        "### but there's still too much going on\n",
        "---"
      ]
    },
    {
      "cell_type": "markdown",
      "id": "c11ca63e-390e-4fc5-b3f6-70edbbdda475",
      "metadata": {
        "id": "c11ca63e-390e-4fc5-b3f6-70edbbdda475"
      },
      "source": [
        "#### We need a Population Class"
      ]
    },
    {
      "cell_type": "raw",
      "id": "d5e2010c-000d-4665-a0f8-14d79ce4d85b",
      "metadata": {
        "id": "d5e2010c-000d-4665-a0f8-14d79ce4d85b"
      },
      "source": [
        "Population Class - Brainstorm:\n",
        "\n",
        "Attributes:\n",
        "    number of People\n",
        "    vector of Person Objects\n",
        "    default_days_sick\n",
        "    default_infection_rate\n",
        "    number_of_interactions\n",
        "\n",
        "Each Person interacts with 10 people\n",
        "If a Person is Infected, each Susceptible Person they interact with has to roll to see if they get Infected\n",
        "\n",
        "If a Person is Susceptible, and they interact with an Infected Person, then the Susceptible Person needs to roll to see if they get Infected\n",
        "\n",
        "Methods:\n",
        "    Number of People Susceptible\n",
        "    Number of People Infected\n",
        "    Number of People Recovered\n",
        "    \n",
        "    Update() - update every Person in our population "
      ]
    },
    {
      "cell_type": "markdown",
      "id": "b1c7226e-ec24-472b-950e-39df58bb2dda",
      "metadata": {
        "id": "b1c7226e-ec24-472b-950e-39df58bb2dda"
      },
      "source": [
        "## Population Object"
      ]
    },
    {
      "cell_type": "code",
      "execution_count": null,
      "id": "56d90ad1-ecbe-41d3-9153-aa092446be67",
      "metadata": {
        "id": "56d90ad1-ecbe-41d3-9153-aa092446be67"
      },
      "outputs": [],
      "source": [
        "class Population(object):\n",
        "    def __init__(self, number_of_people=1000, default_interactions=10, default_days_sick=5, default_infection_rate=10, default_percentage_masked=0, mask_type=):\n",
        "        self.People = []\n",
        "        self.population_count = number_of_people\n",
        "        self.number_of_interactions = default_interactions\n",
        "        self.max_days_sick = default_days_sick\n",
        "        self.infection_rate = default_infection_rate\n",
        "        \n",
        "        self.number_masked = number_of_people*(default_percentage_masked/100)\n",
        "      \n",
        "        \n",
        "        ## set Patient_Zero aka The Jerk\n",
        "        patient_zero = Person()\n",
        "        patient_zero.infect(self.max_days_sick)\n",
        "        \n",
        "        ## add patient_zero to our People[]\n",
        "        \n",
        "        self.People.append(patient_zero)\n",
        "        \n",
        "        ## build the rest of our Population      \n",
        "        for i in range(0, self.population_count):\n",
        "            new_person = Person()\n",
        "            if (i <= self.number_masked):\n",
        "                new_person.set_is_masked(True)\n",
        "                new_person.set_mask_type()\n",
        "                                \n",
        "            self.People.append(new_person)\n",
        "            \n",
        "    #return mumber of people masked\n",
        "    def get_number_masked(self):\n",
        "        return self.number_masked;\n",
        "    \n",
        "    def get_number_masked_infected(self):\n",
        "        count = 0\n",
        "        \n",
        "        for the_person in self.People:\n",
        "            if (the_person.get_status() == \"Infected\" and the_person.get_is_masked() == True):\n",
        "                count = count + 1\n",
        "        \n",
        "        return count    \n",
        "    \n",
        "    ##go through our population, and count each person that's susceptible\n",
        "    def number_of_susceptible(self):\n",
        "        count = 0\n",
        "        \n",
        "        for the_person in self.People:\n",
        "            if (the_person.get_status() == \"Susceptible\"):\n",
        "                count = count + 1\n",
        "        \n",
        "        return count\n",
        "    \n",
        "    ##go through the population, and count each person that's infected\n",
        "    def number_of_infected(self):\n",
        "        count = 0\n",
        "        \n",
        "        for the_person in self.People:\n",
        "            if (the_person.get_status() == \"Infected\"):\n",
        "                count = count + 1\n",
        "        \n",
        "        return count\n",
        "    \n",
        "    ##go through the population, and count each person that's recovered\n",
        "    def number_of_recovered(self):\n",
        "        count = 0\n",
        "        \n",
        "        for the_person in self.People:\n",
        "            if (the_person.get_status() == \"Recovered\"):\n",
        "                count = count + 1\n",
        "                \n",
        "        return count\n",
        "    \n",
        "    ##Total Population\n",
        "    def get_population_count(self):\n",
        "        return len(self.People)\n",
        "    \n",
        "    \n",
        "    def update(self):\n",
        "        \n",
        "        ##we're going to make a list of People who might get\n",
        "        ##infected at the end of the day\n",
        "        \n",
        "        might_get_sick = []\n",
        "        \n",
        "        ## go through my Population and see who might get sick\n",
        "        for person in self.People:\n",
        "            person.interactions = []\n",
        "            \n",
        "            ## each person inteteracts w/ number_of_interaction number of people\n",
        "            \n",
        "            for i in range(0, self.number_of_interactions):\n",
        "                r = random.randint(0, self.population_count)\n",
        "                person.interactions.append(r)\n",
        "            \n",
        "            ## if person is infected, their interactions might get infected\n",
        "            if (person.get_status() == \"Infected\"):\n",
        "                ##????? really????\n",
        "                person.update()\n",
        "                \n",
        "                for j in person.interactions:\n",
        "                    if (self.People[j].get_status() == \"Susceptible\"):\n",
        "                        might_get_sick.append(self.People[j])\n",
        "            \n",
        "            ## if person is susceptible, they interact w/ someone infected\n",
        "            if (person.get_status() == \"Susceptible\"):\n",
        "                for j in person.interactions:\n",
        "                    if (self.People[j].get_status() == \"Infected\"):\n",
        "                        might_get_sick.append(person)\n",
        "                        \n",
        "        ##the above updates each person who is infected\n",
        "        ##I have a list of people who **might** get infected\n",
        "        ##each person in that list, has to roll to get infected\n",
        "        \n",
        "        for person in might_get_sick:\n",
        "            person.roll_for_infection()\n",
        "            \n",
        "            \n",
        "    def get_population_list(self):\n",
        "        return self.People\n",
        "    "
      ]
    },
    {
      "cell_type": "markdown",
      "id": "3e891382-8e29-454a-ad57-80225f70dd94",
      "metadata": {
        "id": "3e891382-8e29-454a-ad57-80225f70dd94"
      },
      "source": [
        "### Our Main Code!\n",
        " Community Object "
      ]
    },
    {
      "cell_type": "code",
      "execution_count": null,
      "id": "f595f5eb-fc77-4864-9bcf-22e6451269a6",
      "metadata": {
        "id": "f595f5eb-fc77-4864-9bcf-22e6451269a6",
        "outputId": "8c73064d-8638-4ce7-e221-28e346ab0a26",
        "colab": {
          "base_uri": "https://localhost:8080/",
          "height": 374
        }
      },
      "outputs": [
        {
          "output_type": "error",
          "ename": "TypeError",
          "evalue": "ignored",
          "traceback": [
            "\u001b[0;31m---------------------------------------------------------------------------\u001b[0m",
            "\u001b[0;31mTypeError\u001b[0m                                 Traceback (most recent call last)",
            "\u001b[0;32m<ipython-input-40-2f509e6e57f5>\u001b[0m in \u001b[0;36m<module>\u001b[0;34m\u001b[0m\n\u001b[1;32m      1\u001b[0m \u001b[0;31m##Build our Community\u001b[0m\u001b[0;34m\u001b[0m\u001b[0;34m\u001b[0m\u001b[0;34m\u001b[0m\u001b[0m\n\u001b[1;32m      2\u001b[0m \u001b[0;34m\u001b[0m\u001b[0m\n\u001b[0;32m----> 3\u001b[0;31m \u001b[0mmyCommunity\u001b[0m \u001b[0;34m=\u001b[0m \u001b[0mPopulation\u001b[0m\u001b[0;34m(\u001b[0m\u001b[0;36m10\u001b[0m\u001b[0;34m)\u001b[0m\u001b[0;34m\u001b[0m\u001b[0;34m\u001b[0m\u001b[0m\n\u001b[0m\u001b[1;32m      4\u001b[0m \u001b[0mday\u001b[0m \u001b[0;34m=\u001b[0m \u001b[0;36m0\u001b[0m\u001b[0;34m\u001b[0m\u001b[0;34m\u001b[0m\u001b[0m\n\u001b[1;32m      5\u001b[0m \u001b[0mnumber_infected\u001b[0m \u001b[0;34m=\u001b[0m \u001b[0mmyCommunity\u001b[0m\u001b[0;34m.\u001b[0m\u001b[0mnumber_of_infected\u001b[0m\u001b[0;34m(\u001b[0m\u001b[0;34m)\u001b[0m\u001b[0;34m\u001b[0m\u001b[0;34m\u001b[0m\u001b[0m\n",
            "\u001b[0;32m<ipython-input-39-e666ef104a03>\u001b[0m in \u001b[0;36m__init__\u001b[0;34m(self, number_of_people, default_interactions, default_days_sick, default_infection_rate, default_percentage_masked, mask_type)\u001b[0m\n\u001b[1;32m     23\u001b[0m             \u001b[0;32mif\u001b[0m \u001b[0;34m(\u001b[0m\u001b[0mi\u001b[0m \u001b[0;34m<=\u001b[0m \u001b[0mself\u001b[0m\u001b[0;34m.\u001b[0m\u001b[0mnumber_masked\u001b[0m\u001b[0;34m)\u001b[0m\u001b[0;34m:\u001b[0m\u001b[0;34m\u001b[0m\u001b[0;34m\u001b[0m\u001b[0m\n\u001b[1;32m     24\u001b[0m                 \u001b[0mnew_person\u001b[0m\u001b[0;34m.\u001b[0m\u001b[0mset_is_masked\u001b[0m\u001b[0;34m(\u001b[0m\u001b[0;32mTrue\u001b[0m\u001b[0;34m)\u001b[0m\u001b[0;34m\u001b[0m\u001b[0;34m\u001b[0m\u001b[0m\n\u001b[0;32m---> 25\u001b[0;31m                 \u001b[0mnew_person\u001b[0m\u001b[0;34m.\u001b[0m\u001b[0mset_mask_type\u001b[0m\u001b[0;34m(\u001b[0m\u001b[0;34m)\u001b[0m\u001b[0;34m\u001b[0m\u001b[0;34m\u001b[0m\u001b[0m\n\u001b[0m\u001b[1;32m     26\u001b[0m \u001b[0;34m\u001b[0m\u001b[0m\n\u001b[1;32m     27\u001b[0m             \u001b[0mself\u001b[0m\u001b[0;34m.\u001b[0m\u001b[0mPeople\u001b[0m\u001b[0;34m.\u001b[0m\u001b[0mappend\u001b[0m\u001b[0;34m(\u001b[0m\u001b[0mnew_person\u001b[0m\u001b[0;34m)\u001b[0m\u001b[0;34m\u001b[0m\u001b[0;34m\u001b[0m\u001b[0m\n",
            "\u001b[0;31mTypeError\u001b[0m: set_mask_type() missing 1 required positional argument: 'mask_type'"
          ]
        }
      ],
      "source": [
        "##Build our Community\n",
        "\n",
        "myCommunity = Population(10)\n",
        "day = 0\n",
        "number_infected = myCommunity.number_of_infected()\n",
        "while (number_infected > 0):\n",
        "    number_infected = myCommunity.number_of_infected()\n",
        "    number_recovered = myCommunity.number_of_recovered()\n",
        "    print(\"day:\", day, \"infected:\", \"recovered:\", number_recovered)\n",
        "    \n",
        "    day = day + 1\n",
        "    myCommunity.update()\n",
        "\n"
      ]
    },
    {
      "cell_type": "code",
      "execution_count": null,
      "id": "6ad5b6a2-a1fa-424c-ab9f-0b0db56e531c",
      "metadata": {
        "id": "6ad5b6a2-a1fa-424c-ab9f-0b0db56e531c",
        "colab": {
          "base_uri": "https://localhost:8080/",
          "height": 374
        },
        "outputId": "93f749ee-802a-4efa-b608-3d6f79b2c9cf"
      },
      "outputs": [
        {
          "output_type": "error",
          "ename": "TypeError",
          "evalue": "ignored",
          "traceback": [
            "\u001b[0;31m---------------------------------------------------------------------------\u001b[0m",
            "\u001b[0;31mTypeError\u001b[0m                                 Traceback (most recent call last)",
            "\u001b[0;32m<ipython-input-34-6ade5b6dde24>\u001b[0m in \u001b[0;36m<module>\u001b[0;34m\u001b[0m\n\u001b[1;32m      1\u001b[0m \u001b[0;31m##Build our Community\u001b[0m\u001b[0;34m\u001b[0m\u001b[0;34m\u001b[0m\u001b[0;34m\u001b[0m\u001b[0m\n\u001b[1;32m      2\u001b[0m \u001b[0;34m\u001b[0m\u001b[0m\n\u001b[0;32m----> 3\u001b[0;31m \u001b[0mmyCommunity\u001b[0m \u001b[0;34m=\u001b[0m \u001b[0mPopulation\u001b[0m\u001b[0;34m(\u001b[0m\u001b[0;36m40000\u001b[0m\u001b[0;34m,\u001b[0m \u001b[0;36m10\u001b[0m\u001b[0;34m,\u001b[0m \u001b[0;36m5\u001b[0m\u001b[0;34m,\u001b[0m \u001b[0;36m10\u001b[0m\u001b[0;34m,\u001b[0m \u001b[0;36m70\u001b[0m\u001b[0;34m)\u001b[0m\u001b[0;34m\u001b[0m\u001b[0;34m\u001b[0m\u001b[0m\n\u001b[0m\u001b[1;32m      4\u001b[0m \u001b[0mprint\u001b[0m \u001b[0;34m(\u001b[0m\u001b[0;34m\"Population:\"\u001b[0m\u001b[0;34m,\u001b[0m\u001b[0mmyCommunity\u001b[0m\u001b[0;34m.\u001b[0m\u001b[0mget_population_count\u001b[0m\u001b[0;34m(\u001b[0m\u001b[0;34m)\u001b[0m\u001b[0;34m)\u001b[0m\u001b[0;34m\u001b[0m\u001b[0;34m\u001b[0m\u001b[0m\n\u001b[1;32m      5\u001b[0m \u001b[0mprint\u001b[0m \u001b[0;34m(\u001b[0m\u001b[0;34m\"Number masked:\"\u001b[0m\u001b[0;34m,\u001b[0m \u001b[0mmyCommunity\u001b[0m\u001b[0;34m.\u001b[0m\u001b[0mget_number_masked\u001b[0m\u001b[0;34m(\u001b[0m\u001b[0;34m)\u001b[0m\u001b[0;34m)\u001b[0m\u001b[0;34m\u001b[0m\u001b[0;34m\u001b[0m\u001b[0m\n",
            "\u001b[0;32m<ipython-input-31-13b0fa870b2d>\u001b[0m in \u001b[0;36m__init__\u001b[0;34m(self, number_of_people, default_interactions, default_days_sick, default_infection_rate, default_percentage_masked)\u001b[0m\n\u001b[1;32m     23\u001b[0m             \u001b[0;32mif\u001b[0m \u001b[0;34m(\u001b[0m\u001b[0mi\u001b[0m \u001b[0;34m<=\u001b[0m \u001b[0mself\u001b[0m\u001b[0;34m.\u001b[0m\u001b[0mnumber_masked\u001b[0m\u001b[0;34m)\u001b[0m\u001b[0;34m:\u001b[0m\u001b[0;34m\u001b[0m\u001b[0;34m\u001b[0m\u001b[0m\n\u001b[1;32m     24\u001b[0m                 \u001b[0mnew_person\u001b[0m\u001b[0;34m.\u001b[0m\u001b[0mset_is_masked\u001b[0m\u001b[0;34m(\u001b[0m\u001b[0;32mTrue\u001b[0m\u001b[0;34m)\u001b[0m\u001b[0;34m\u001b[0m\u001b[0;34m\u001b[0m\u001b[0m\n\u001b[0;32m---> 25\u001b[0;31m                 \u001b[0mnew_person\u001b[0m\u001b[0;34m.\u001b[0m\u001b[0mset_mask_type\u001b[0m\u001b[0;34m(\u001b[0m\u001b[0;34m)\u001b[0m\u001b[0;34m\u001b[0m\u001b[0;34m\u001b[0m\u001b[0m\n\u001b[0m\u001b[1;32m     26\u001b[0m \u001b[0;34m\u001b[0m\u001b[0m\n\u001b[1;32m     27\u001b[0m             \u001b[0mself\u001b[0m\u001b[0;34m.\u001b[0m\u001b[0mPeople\u001b[0m\u001b[0;34m.\u001b[0m\u001b[0mappend\u001b[0m\u001b[0;34m(\u001b[0m\u001b[0mnew_person\u001b[0m\u001b[0;34m)\u001b[0m\u001b[0;34m\u001b[0m\u001b[0;34m\u001b[0m\u001b[0m\n",
            "\u001b[0;31mTypeError\u001b[0m: set_mask_type() missing 1 required positional argument: 'mask_types'"
          ]
        }
      ],
      "source": [
        "##Build our Community\n",
        "\n",
        "myCommunity = Population(40000, 10, 5, 10, 70)\n",
        "print (\"Population:\",myCommunity.get_population_count())\n",
        "print (\"Number masked:\", myCommunity.get_number_masked())\n",
        "\n",
        "\n",
        "day = 0\n",
        "number_infected = myCommunity.number_of_infected()\n",
        "while (number_infected > 0):\n",
        "    number_infected = myCommunity.number_of_infected()\n",
        "    number_recovered = myCommunity.number_of_recovered()\n",
        "    number_masked = myCommunity.get_number_masked_infected()\n",
        "    \n",
        "    print(\"day:\", day, \"infected:\", number_infected, \"masked+infected:\", number_masked, \"recovered:\", number_recovered)\n",
        "    \n",
        "    day = day + 1\n",
        "    myCommunity.update()"
      ]
    },
    {
      "cell_type": "code",
      "execution_count": null,
      "id": "e5e3f1ad-d4b0-4b46-8ecd-375c2dd61f10",
      "metadata": {
        "id": "e5e3f1ad-d4b0-4b46-8ecd-375c2dd61f10"
      },
      "outputs": [],
      "source": []
    }
  ],
  "metadata": {
    "IMAGE_NAME": "taccsciapps/ds-nb-img:base-0.1.0",
    "UUID": "e7ea5304-7648-11ed-bbce-9aff3d7cd6d4",
    "kernelspec": {
      "display_name": "Python 3 (ipykernel)",
      "language": "python",
      "name": "python3"
    },
    "language_info": {
      "codemirror_mode": {
        "name": "ipython",
        "version": 3
      },
      "file_extension": ".py",
      "mimetype": "text/x-python",
      "name": "python",
      "nbconvert_exporter": "python",
      "pygments_lexer": "ipython3",
      "version": "3.9.10"
    },
    "colab": {
      "provenance": []
    }
  },
  "nbformat": 4,
  "nbformat_minor": 5
}